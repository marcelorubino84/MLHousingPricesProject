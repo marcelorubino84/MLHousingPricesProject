{
  "nbformat": 4,
  "nbformat_minor": 0,
  "metadata": {
    "colab": {
      "provenance": [],
      "authorship_tag": "ABX9TyPzDwswdz9JWlwdUP8pyTSi",
      "include_colab_link": true
    },
    "kernelspec": {
      "name": "python3",
      "display_name": "Python 3"
    },
    "language_info": {
      "name": "python"
    }
  },
  "cells": [
    {
      "cell_type": "markdown",
      "metadata": {
        "id": "view-in-github",
        "colab_type": "text"
      },
      "source": [
        "<a href=\"https://colab.research.google.com/github/marcelorubino84/MLHousingPricesProject/blob/main/Housing_competition.ipynb\" target=\"_parent\"><img src=\"https://colab.research.google.com/assets/colab-badge.svg\" alt=\"Open In Colab\"/></a>"
      ]
    },
    {
      "cell_type": "markdown",
      "source": [
        "# 1. Importing all the necessary libraries\n"
      ],
      "metadata": {
        "id": "qOFj31ckPtjm"
      }
    },
    {
      "cell_type": "code",
      "execution_count": null,
      "metadata": {
        "id": "GlOJ0Jw_7cCQ"
      },
      "outputs": [],
      "source": [
        "import pandas as pd\n",
        "import matplotlib.pyplot as plt\n",
        "from sklearn.tree import plot_tree\n",
        "from sklearn.impute import SimpleImputer\n",
        "from sklearn.pipeline import make_pipeline\n",
        "from sklearn.metrics import accuracy_score\n",
        "from sklearn.compose import ColumnTransformer\n",
        "from sklearn.tree import DecisionTreeClassifier\n",
        "from sklearn.preprocessing import OneHotEncoder\n",
        "from sklearn.model_selection import GridSearchCV\n",
        "from sklearn.ensemble import RandomForestClassifier\n",
        "from sklearn.model_selection import train_test_split\n",
        "import seaborn as sns\n",
        "import matplotlib.pyplot as plt\n"
      ]
    },
    {
      "cell_type": "markdown",
      "source": [
        "# 2. Importing the data"
      ],
      "metadata": {
        "id": "lycq7ypXQNa9"
      }
    },
    {
      "cell_type": "code",
      "source": [
        "from google.colab import drive \n",
        "drive.mount('/content/gdrive')"
      ],
      "metadata": {
        "colab": {
          "base_uri": "https://localhost:8080/"
        },
        "id": "N4GkPpYwQEFt",
        "outputId": "92fff7d6-f9f8-4d9d-b482-c44709aed3f1"
      },
      "execution_count": null,
      "outputs": [
        {
          "output_type": "stream",
          "name": "stdout",
          "text": [
            "Drive already mounted at /content/gdrive; to attempt to forcibly remount, call drive.mount(\"/content/gdrive\", force_remount=True).\n"
          ]
        }
      ]
    },
    {
      "cell_type": "code",
      "source": [
        "df_houses = pd.read_csv('/content/gdrive/MyDrive/housing-classification-iter6.csv')"
      ],
      "metadata": {
        "id": "D9ZHzRhUPM7v"
      },
      "execution_count": null,
      "outputs": []
    },
    {
      "cell_type": "markdown",
      "source": [
        "# 3. Exploring the data"
      ],
      "metadata": {
        "id": "n_U3b4VUVWty"
      }
    },
    {
      "cell_type": "code",
      "source": [
        "# Display all columns\n",
        "pd.set_option('display.max_columns', None)"
      ],
      "metadata": {
        "id": "edsnWAjpRyrb"
      },
      "execution_count": null,
      "outputs": []
    },
    {
      "cell_type": "code",
      "source": [
        "# Checking for missing values\n",
        "df_houses.isna().sum()"
      ],
      "metadata": {
        "colab": {
          "base_uri": "https://localhost:8080/"
        },
        "id": "z8s6wfL-UZGR",
        "outputId": "986b14c9-c366-458b-edb7-5d9a76784ab3"
      },
      "execution_count": null,
      "outputs": [
        {
          "output_type": "execute_result",
          "data": {
            "text/plain": [
              "LotArea             0\n",
              "LotFrontage       259\n",
              "TotalBsmtSF         0\n",
              "BedroomAbvGr        0\n",
              "Fireplaces          0\n",
              "                 ... \n",
              "PoolQC           1453\n",
              "Fence            1179\n",
              "MiscFeature      1406\n",
              "SaleType            0\n",
              "SaleCondition       0\n",
              "Length: 81, dtype: int64"
            ]
          },
          "metadata": {},
          "execution_count": 170
        }
      ]
    },
    {
      "cell_type": "code",
      "source": [
        "# Checking for duplicates\n",
        "df_houses.duplicated().sum()"
      ],
      "metadata": {
        "colab": {
          "base_uri": "https://localhost:8080/"
        },
        "id": "VimhzKQTVb8y",
        "outputId": "fba01b5a-dbd1-414c-d11d-aab6168dc68b"
      },
      "execution_count": null,
      "outputs": [
        {
          "output_type": "execute_result",
          "data": {
            "text/plain": [
              "0"
            ]
          },
          "metadata": {},
          "execution_count": 171
        }
      ]
    },
    {
      "cell_type": "code",
      "source": [
        "# Checking the datatypes\n",
        "df_houses.info()"
      ],
      "metadata": {
        "colab": {
          "base_uri": "https://localhost:8080/"
        },
        "id": "sI0adafNVyw1",
        "outputId": "96743ab3-fc7c-48fb-9cb3-068d3bd9fb12"
      },
      "execution_count": null,
      "outputs": [
        {
          "output_type": "stream",
          "name": "stdout",
          "text": [
            "<class 'pandas.core.frame.DataFrame'>\n",
            "RangeIndex: 1460 entries, 0 to 1459\n",
            "Data columns (total 81 columns):\n",
            " #   Column         Non-Null Count  Dtype  \n",
            "---  ------         --------------  -----  \n",
            " 0   LotArea        1460 non-null   int64  \n",
            " 1   LotFrontage    1201 non-null   float64\n",
            " 2   TotalBsmtSF    1460 non-null   int64  \n",
            " 3   BedroomAbvGr   1460 non-null   int64  \n",
            " 4   Fireplaces     1460 non-null   int64  \n",
            " 5   PoolArea       1460 non-null   int64  \n",
            " 6   GarageCars     1460 non-null   int64  \n",
            " 7   WoodDeckSF     1460 non-null   int64  \n",
            " 8   ScreenPorch    1460 non-null   int64  \n",
            " 9   Expensive      1460 non-null   int64  \n",
            " 10  MSZoning       1460 non-null   object \n",
            " 11  Condition1     1460 non-null   object \n",
            " 12  Heating        1460 non-null   object \n",
            " 13  Street         1460 non-null   object \n",
            " 14  CentralAir     1460 non-null   object \n",
            " 15  Foundation     1460 non-null   object \n",
            " 16  ExterQual      1460 non-null   object \n",
            " 17  ExterCond      1460 non-null   object \n",
            " 18  BsmtQual       1423 non-null   object \n",
            " 19  BsmtCond       1423 non-null   object \n",
            " 20  BsmtExposure   1422 non-null   object \n",
            " 21  BsmtFinType1   1423 non-null   object \n",
            " 22  KitchenQual    1460 non-null   object \n",
            " 23  FireplaceQu    770 non-null    object \n",
            " 24  MSSubClass     1460 non-null   int64  \n",
            " 25  OverallQual    1460 non-null   int64  \n",
            " 26  OverallCond    1460 non-null   int64  \n",
            " 27  YearBuilt      1460 non-null   int64  \n",
            " 28  YearRemodAdd   1460 non-null   int64  \n",
            " 29  MasVnrArea     1452 non-null   float64\n",
            " 30  BsmtFinSF1     1460 non-null   int64  \n",
            " 31  BsmtFinSF2     1460 non-null   int64  \n",
            " 32  BsmtUnfSF      1460 non-null   int64  \n",
            " 33  1stFlrSF       1460 non-null   int64  \n",
            " 34  2ndFlrSF       1460 non-null   int64  \n",
            " 35  LowQualFinSF   1460 non-null   int64  \n",
            " 36  GrLivArea      1460 non-null   int64  \n",
            " 37  BsmtFullBath   1460 non-null   int64  \n",
            " 38  BsmtHalfBath   1460 non-null   int64  \n",
            " 39  FullBath       1460 non-null   int64  \n",
            " 40  HalfBath       1460 non-null   int64  \n",
            " 41  KitchenAbvGr   1460 non-null   int64  \n",
            " 42  TotRmsAbvGrd   1460 non-null   int64  \n",
            " 43  GarageYrBlt    1379 non-null   float64\n",
            " 44  GarageArea     1460 non-null   int64  \n",
            " 45  OpenPorchSF    1460 non-null   int64  \n",
            " 46  EnclosedPorch  1460 non-null   int64  \n",
            " 47  3SsnPorch      1460 non-null   int64  \n",
            " 48  MiscVal        1460 non-null   int64  \n",
            " 49  MoSold         1460 non-null   int64  \n",
            " 50  YrSold         1460 non-null   int64  \n",
            " 51  Id             1460 non-null   int64  \n",
            " 52  Alley          91 non-null     object \n",
            " 53  LotShape       1460 non-null   object \n",
            " 54  LandContour    1460 non-null   object \n",
            " 55  Utilities      1460 non-null   object \n",
            " 56  LotConfig      1460 non-null   object \n",
            " 57  LandSlope      1460 non-null   object \n",
            " 58  Neighborhood   1460 non-null   object \n",
            " 59  Condition2     1460 non-null   object \n",
            " 60  BldgType       1460 non-null   object \n",
            " 61  HouseStyle     1460 non-null   object \n",
            " 62  RoofStyle      1460 non-null   object \n",
            " 63  RoofMatl       1460 non-null   object \n",
            " 64  Exterior1st    1460 non-null   object \n",
            " 65  Exterior2nd    1460 non-null   object \n",
            " 66  MasVnrType     1452 non-null   object \n",
            " 67  BsmtFinType2   1422 non-null   object \n",
            " 68  HeatingQC      1460 non-null   object \n",
            " 69  Electrical     1459 non-null   object \n",
            " 70  Functional     1460 non-null   object \n",
            " 71  GarageType     1379 non-null   object \n",
            " 72  GarageFinish   1379 non-null   object \n",
            " 73  GarageQual     1379 non-null   object \n",
            " 74  GarageCond     1379 non-null   object \n",
            " 75  PavedDrive     1460 non-null   object \n",
            " 76  PoolQC         7 non-null      object \n",
            " 77  Fence          281 non-null    object \n",
            " 78  MiscFeature    54 non-null     object \n",
            " 79  SaleType       1460 non-null   object \n",
            " 80  SaleCondition  1460 non-null   object \n",
            "dtypes: float64(3), int64(35), object(43)\n",
            "memory usage: 924.0+ KB\n"
          ]
        }
      ]
    },
    {
      "cell_type": "code",
      "source": [
        "# Since there is a huge amount of missing data in the below columns, they will be deleted\n",
        "df_houses = df_houses.drop(columns=[\"MiscFeature\",'PoolQC','Fence','Alley','FireplaceQu'])"
      ],
      "metadata": {
        "id": "uFNhVZhH7v94"
      },
      "execution_count": null,
      "outputs": []
    },
    {
      "cell_type": "markdown",
      "source": [
        "# 3. Defining the feature vectors and the target column for the model"
      ],
      "metadata": {
        "id": "7kZJqTI3eUoD"
      }
    },
    {
      "cell_type": "code",
      "source": [
        "y = df_houses.pop('Expensive')"
      ],
      "metadata": {
        "id": "aBL_xs3beoih"
      },
      "execution_count": null,
      "outputs": []
    },
    {
      "cell_type": "code",
      "source": [
        "X = df_houses"
      ],
      "metadata": {
        "id": "GohVbJnre_8o"
      },
      "execution_count": null,
      "outputs": []
    },
    {
      "cell_type": "code",
      "source": [
        "X.columns"
      ],
      "metadata": {
        "colab": {
          "base_uri": "https://localhost:8080/"
        },
        "id": "_kd08yBBfFmh",
        "outputId": "a690c449-678c-4669-bba8-fb5866283951"
      },
      "execution_count": null,
      "outputs": [
        {
          "output_type": "execute_result",
          "data": {
            "text/plain": [
              "Index(['LotArea', 'LotFrontage', 'TotalBsmtSF', 'BedroomAbvGr', 'Fireplaces',\n",
              "       'PoolArea', 'GarageCars', 'WoodDeckSF', 'ScreenPorch', 'MSZoning',\n",
              "       'Condition1', 'Heating', 'Street', 'CentralAir', 'Foundation',\n",
              "       'ExterQual', 'ExterCond', 'BsmtQual', 'BsmtCond', 'BsmtExposure',\n",
              "       'BsmtFinType1', 'KitchenQual', 'MSSubClass', 'OverallQual',\n",
              "       'OverallCond', 'YearBuilt', 'YearRemodAdd', 'MasVnrArea', 'BsmtFinSF1',\n",
              "       'BsmtFinSF2', 'BsmtUnfSF', '1stFlrSF', '2ndFlrSF', 'LowQualFinSF',\n",
              "       'GrLivArea', 'BsmtFullBath', 'BsmtHalfBath', 'FullBath', 'HalfBath',\n",
              "       'KitchenAbvGr', 'TotRmsAbvGrd', 'GarageYrBlt', 'GarageArea',\n",
              "       'OpenPorchSF', 'EnclosedPorch', '3SsnPorch', 'MiscVal', 'MoSold',\n",
              "       'YrSold', 'Id', 'LotShape', 'LandContour', 'Utilities', 'LotConfig',\n",
              "       'LandSlope', 'Neighborhood', 'Condition2', 'BldgType', 'HouseStyle',\n",
              "       'RoofStyle', 'RoofMatl', 'Exterior1st', 'Exterior2nd', 'MasVnrType',\n",
              "       'BsmtFinType2', 'HeatingQC', 'Electrical', 'Functional', 'GarageType',\n",
              "       'GarageFinish', 'GarageQual', 'GarageCond', 'PavedDrive', 'SaleType',\n",
              "       'SaleCondition'],\n",
              "      dtype='object')"
            ]
          },
          "metadata": {},
          "execution_count": 176
        }
      ]
    },
    {
      "cell_type": "code",
      "source": [
        "y"
      ],
      "metadata": {
        "colab": {
          "base_uri": "https://localhost:8080/"
        },
        "id": "j8wrzORD4keH",
        "outputId": "125be857-8a63-4d20-f6f0-0022c3025ab5"
      },
      "execution_count": null,
      "outputs": [
        {
          "output_type": "execute_result",
          "data": {
            "text/plain": [
              "0       0\n",
              "1       0\n",
              "2       0\n",
              "3       0\n",
              "4       0\n",
              "       ..\n",
              "1455    0\n",
              "1456    0\n",
              "1457    1\n",
              "1458    0\n",
              "1459    0\n",
              "Name: Expensive, Length: 1460, dtype: int64"
            ]
          },
          "metadata": {},
          "execution_count": 177
        }
      ]
    },
    {
      "cell_type": "markdown",
      "source": [
        "# 4. Splitting the data into train and test"
      ],
      "metadata": {
        "id": "I6pEIFRyfURW"
      }
    },
    {
      "cell_type": "code",
      "source": [
        "X_train, X_test, y_train, y_test = train_test_split(X, y, test_size=0.2, random_state=123)"
      ],
      "metadata": {
        "id": "47SfEmsmfG_3"
      },
      "execution_count": null,
      "outputs": []
    },
    {
      "cell_type": "code",
      "source": [
        "X_train.head()"
      ],
      "metadata": {
        "colab": {
          "base_uri": "https://localhost:8080/",
          "height": 270
        },
        "id": "d5znOdrAfuOa",
        "outputId": "351a93f3-3865-4ee3-c19b-a8b62b717e50"
      },
      "execution_count": null,
      "outputs": [
        {
          "output_type": "execute_result",
          "data": {
            "text/plain": [
              "     LotArea  LotFrontage  TotalBsmtSF  BedroomAbvGr  Fireplaces  PoolArea  \\\n",
              "318     9900         90.0         1347             4           1         0   \n",
              "580    14585          NaN         1144             3           2         0   \n",
              "961    12227          NaN         1330             4           1         0   \n",
              "78     10778         72.0         1768             4           0         0   \n",
              "5      14115         85.0          796             1           0         0   \n",
              "\n",
              "     GarageCars  WoodDeckSF  ScreenPorch MSZoning Condition1 Heating Street  \\\n",
              "318           3         340            0       RL       Norm    GasA   Pave   \n",
              "580           2         216            0       RL       Norm    GasA   Pave   \n",
              "961           2         550            0       RL       PosN    GasA   Pave   \n",
              "78            0           0            0       RL       Norm    GasA   Pave   \n",
              "5             2          40            0       RL       Norm    GasA   Pave   \n",
              "\n",
              "    CentralAir Foundation ExterQual ExterCond BsmtQual BsmtCond BsmtExposure  \\\n",
              "318          Y      PConc        Gd        TA       Gd       TA           Gd   \n",
              "580          Y     CBlock        TA        TA       TA       TA           No   \n",
              "961          Y     CBlock        TA        Gd       Gd       Gd           No   \n",
              "78           N     CBlock        TA        TA       TA       TA           No   \n",
              "5            Y       Wood        TA        TA       Gd       TA           No   \n",
              "\n",
              "    BsmtFinType1 KitchenQual  MSSubClass  OverallQual  OverallCond  YearBuilt  \\\n",
              "318          GLQ          Gd          60            7            5       1993   \n",
              "580          BLQ          Gd          20            6            6       1960   \n",
              "961          ALQ          TA          60            6            7       1977   \n",
              "78           Unf          TA          90            4            5       1968   \n",
              "5            GLQ          TA          50            5            5       1993   \n",
              "\n",
              "     YearRemodAdd  MasVnrArea  BsmtFinSF1  BsmtFinSF2  BsmtUnfSF  1stFlrSF  \\\n",
              "318          1993       256.0         987           0        360      1372   \n",
              "580          1987        85.0         594         219        331      1429   \n",
              "961          1995       424.0         896           0        434      1542   \n",
              "78           1968         0.0           0           0       1768      1768   \n",
              "5            1995         0.0         732           0         64       796   \n",
              "\n",
              "     2ndFlrSF  LowQualFinSF  GrLivArea  BsmtFullBath  BsmtHalfBath  FullBath  \\\n",
              "318      1274             0       2646             1             0         2   \n",
              "580         0             0       1429             0             1         1   \n",
              "961      1330             0       2872             1             0         2   \n",
              "78          0             0       1768             0             0         2   \n",
              "5         566             0       1362             1             0         1   \n",
              "\n",
              "     HalfBath  KitchenAbvGr  TotRmsAbvGrd  GarageYrBlt  GarageArea  \\\n",
              "318         1             1             9       1993.0         656   \n",
              "580         0             1             7       1960.0         572   \n",
              "961         1             1            11       1977.0         619   \n",
              "78          0             2             8          NaN           0   \n",
              "5           1             1             5       1993.0         480   \n",
              "\n",
              "     OpenPorchSF  EnclosedPorch  3SsnPorch  MiscVal  MoSold  YrSold   Id  \\\n",
              "318           60            144          0        0       4    2009  319   \n",
              "580          110              0          0        0       6    2007  581   \n",
              "961          282              0          0        0       7    2008  962   \n",
              "78             0              0          0        0       4    2010   79   \n",
              "5             30              0        320      700      10    2009    6   \n",
              "\n",
              "    LotShape LandContour Utilities LotConfig LandSlope Neighborhood  \\\n",
              "318      Reg         Low    AllPub    Inside       Mod      NoRidge   \n",
              "580      IR1         Lvl    AllPub   CulDSac       Gtl        NAmes   \n",
              "961      IR1         Lvl    AllPub    Corner       Gtl       NWAmes   \n",
              "78       Reg         Lvl    AllPub    Inside       Gtl       Sawyer   \n",
              "5        IR1         Lvl    AllPub    Inside       Gtl      Mitchel   \n",
              "\n",
              "    Condition2 BldgType HouseStyle RoofStyle RoofMatl Exterior1st Exterior2nd  \\\n",
              "318       Norm     1Fam     2Story     Gable  CompShg     HdBoard     HdBoard   \n",
              "580       Norm     1Fam     1Story     Gable  CompShg     Wd Sdng     Wd Sdng   \n",
              "961       Norm     1Fam     2Story     Gable  CompShg     HdBoard     HdBoard   \n",
              "78        Norm   Duplex     1Story       Hip  CompShg     HdBoard     HdBoard   \n",
              "5         Norm     1Fam     1.5Fin     Gable  CompShg     VinylSd     VinylSd   \n",
              "\n",
              "    MasVnrType BsmtFinType2 HeatingQC Electrical Functional GarageType  \\\n",
              "318    BrkFace          Unf        Ex      SBrkr        Typ     Attchd   \n",
              "580    BrkFace          Rec        Ex      SBrkr        Typ     Attchd   \n",
              "961    BrkFace          Unf        TA      SBrkr        Typ     Attchd   \n",
              "78        None          Unf        TA      SBrkr        Typ        NaN   \n",
              "5         None          Unf        Ex      SBrkr        Typ     Attchd   \n",
              "\n",
              "    GarageFinish GarageQual GarageCond PavedDrive SaleType SaleCondition  \n",
              "318          RFn         TA         TA          Y       WD        Normal  \n",
              "580          Unf         TA         TA          Y       WD        Normal  \n",
              "961          Fin         TA         TA          Y       WD        Normal  \n",
              "78           NaN        NaN        NaN          Y       WD        Normal  \n",
              "5            Unf         TA         TA          Y       WD        Normal  "
            ],
            "text/html": [
              "\n",
              "  <div id=\"df-fe780e94-091d-4eb4-a1a0-af561a0046f3\">\n",
              "    <div class=\"colab-df-container\">\n",
              "      <div>\n",
              "<style scoped>\n",
              "    .dataframe tbody tr th:only-of-type {\n",
              "        vertical-align: middle;\n",
              "    }\n",
              "\n",
              "    .dataframe tbody tr th {\n",
              "        vertical-align: top;\n",
              "    }\n",
              "\n",
              "    .dataframe thead th {\n",
              "        text-align: right;\n",
              "    }\n",
              "</style>\n",
              "<table border=\"1\" class=\"dataframe\">\n",
              "  <thead>\n",
              "    <tr style=\"text-align: right;\">\n",
              "      <th></th>\n",
              "      <th>LotArea</th>\n",
              "      <th>LotFrontage</th>\n",
              "      <th>TotalBsmtSF</th>\n",
              "      <th>BedroomAbvGr</th>\n",
              "      <th>Fireplaces</th>\n",
              "      <th>PoolArea</th>\n",
              "      <th>GarageCars</th>\n",
              "      <th>WoodDeckSF</th>\n",
              "      <th>ScreenPorch</th>\n",
              "      <th>MSZoning</th>\n",
              "      <th>Condition1</th>\n",
              "      <th>Heating</th>\n",
              "      <th>Street</th>\n",
              "      <th>CentralAir</th>\n",
              "      <th>Foundation</th>\n",
              "      <th>ExterQual</th>\n",
              "      <th>ExterCond</th>\n",
              "      <th>BsmtQual</th>\n",
              "      <th>BsmtCond</th>\n",
              "      <th>BsmtExposure</th>\n",
              "      <th>BsmtFinType1</th>\n",
              "      <th>KitchenQual</th>\n",
              "      <th>MSSubClass</th>\n",
              "      <th>OverallQual</th>\n",
              "      <th>OverallCond</th>\n",
              "      <th>YearBuilt</th>\n",
              "      <th>YearRemodAdd</th>\n",
              "      <th>MasVnrArea</th>\n",
              "      <th>BsmtFinSF1</th>\n",
              "      <th>BsmtFinSF2</th>\n",
              "      <th>BsmtUnfSF</th>\n",
              "      <th>1stFlrSF</th>\n",
              "      <th>2ndFlrSF</th>\n",
              "      <th>LowQualFinSF</th>\n",
              "      <th>GrLivArea</th>\n",
              "      <th>BsmtFullBath</th>\n",
              "      <th>BsmtHalfBath</th>\n",
              "      <th>FullBath</th>\n",
              "      <th>HalfBath</th>\n",
              "      <th>KitchenAbvGr</th>\n",
              "      <th>TotRmsAbvGrd</th>\n",
              "      <th>GarageYrBlt</th>\n",
              "      <th>GarageArea</th>\n",
              "      <th>OpenPorchSF</th>\n",
              "      <th>EnclosedPorch</th>\n",
              "      <th>3SsnPorch</th>\n",
              "      <th>MiscVal</th>\n",
              "      <th>MoSold</th>\n",
              "      <th>YrSold</th>\n",
              "      <th>Id</th>\n",
              "      <th>LotShape</th>\n",
              "      <th>LandContour</th>\n",
              "      <th>Utilities</th>\n",
              "      <th>LotConfig</th>\n",
              "      <th>LandSlope</th>\n",
              "      <th>Neighborhood</th>\n",
              "      <th>Condition2</th>\n",
              "      <th>BldgType</th>\n",
              "      <th>HouseStyle</th>\n",
              "      <th>RoofStyle</th>\n",
              "      <th>RoofMatl</th>\n",
              "      <th>Exterior1st</th>\n",
              "      <th>Exterior2nd</th>\n",
              "      <th>MasVnrType</th>\n",
              "      <th>BsmtFinType2</th>\n",
              "      <th>HeatingQC</th>\n",
              "      <th>Electrical</th>\n",
              "      <th>Functional</th>\n",
              "      <th>GarageType</th>\n",
              "      <th>GarageFinish</th>\n",
              "      <th>GarageQual</th>\n",
              "      <th>GarageCond</th>\n",
              "      <th>PavedDrive</th>\n",
              "      <th>SaleType</th>\n",
              "      <th>SaleCondition</th>\n",
              "    </tr>\n",
              "  </thead>\n",
              "  <tbody>\n",
              "    <tr>\n",
              "      <th>318</th>\n",
              "      <td>9900</td>\n",
              "      <td>90.0</td>\n",
              "      <td>1347</td>\n",
              "      <td>4</td>\n",
              "      <td>1</td>\n",
              "      <td>0</td>\n",
              "      <td>3</td>\n",
              "      <td>340</td>\n",
              "      <td>0</td>\n",
              "      <td>RL</td>\n",
              "      <td>Norm</td>\n",
              "      <td>GasA</td>\n",
              "      <td>Pave</td>\n",
              "      <td>Y</td>\n",
              "      <td>PConc</td>\n",
              "      <td>Gd</td>\n",
              "      <td>TA</td>\n",
              "      <td>Gd</td>\n",
              "      <td>TA</td>\n",
              "      <td>Gd</td>\n",
              "      <td>GLQ</td>\n",
              "      <td>Gd</td>\n",
              "      <td>60</td>\n",
              "      <td>7</td>\n",
              "      <td>5</td>\n",
              "      <td>1993</td>\n",
              "      <td>1993</td>\n",
              "      <td>256.0</td>\n",
              "      <td>987</td>\n",
              "      <td>0</td>\n",
              "      <td>360</td>\n",
              "      <td>1372</td>\n",
              "      <td>1274</td>\n",
              "      <td>0</td>\n",
              "      <td>2646</td>\n",
              "      <td>1</td>\n",
              "      <td>0</td>\n",
              "      <td>2</td>\n",
              "      <td>1</td>\n",
              "      <td>1</td>\n",
              "      <td>9</td>\n",
              "      <td>1993.0</td>\n",
              "      <td>656</td>\n",
              "      <td>60</td>\n",
              "      <td>144</td>\n",
              "      <td>0</td>\n",
              "      <td>0</td>\n",
              "      <td>4</td>\n",
              "      <td>2009</td>\n",
              "      <td>319</td>\n",
              "      <td>Reg</td>\n",
              "      <td>Low</td>\n",
              "      <td>AllPub</td>\n",
              "      <td>Inside</td>\n",
              "      <td>Mod</td>\n",
              "      <td>NoRidge</td>\n",
              "      <td>Norm</td>\n",
              "      <td>1Fam</td>\n",
              "      <td>2Story</td>\n",
              "      <td>Gable</td>\n",
              "      <td>CompShg</td>\n",
              "      <td>HdBoard</td>\n",
              "      <td>HdBoard</td>\n",
              "      <td>BrkFace</td>\n",
              "      <td>Unf</td>\n",
              "      <td>Ex</td>\n",
              "      <td>SBrkr</td>\n",
              "      <td>Typ</td>\n",
              "      <td>Attchd</td>\n",
              "      <td>RFn</td>\n",
              "      <td>TA</td>\n",
              "      <td>TA</td>\n",
              "      <td>Y</td>\n",
              "      <td>WD</td>\n",
              "      <td>Normal</td>\n",
              "    </tr>\n",
              "    <tr>\n",
              "      <th>580</th>\n",
              "      <td>14585</td>\n",
              "      <td>NaN</td>\n",
              "      <td>1144</td>\n",
              "      <td>3</td>\n",
              "      <td>2</td>\n",
              "      <td>0</td>\n",
              "      <td>2</td>\n",
              "      <td>216</td>\n",
              "      <td>0</td>\n",
              "      <td>RL</td>\n",
              "      <td>Norm</td>\n",
              "      <td>GasA</td>\n",
              "      <td>Pave</td>\n",
              "      <td>Y</td>\n",
              "      <td>CBlock</td>\n",
              "      <td>TA</td>\n",
              "      <td>TA</td>\n",
              "      <td>TA</td>\n",
              "      <td>TA</td>\n",
              "      <td>No</td>\n",
              "      <td>BLQ</td>\n",
              "      <td>Gd</td>\n",
              "      <td>20</td>\n",
              "      <td>6</td>\n",
              "      <td>6</td>\n",
              "      <td>1960</td>\n",
              "      <td>1987</td>\n",
              "      <td>85.0</td>\n",
              "      <td>594</td>\n",
              "      <td>219</td>\n",
              "      <td>331</td>\n",
              "      <td>1429</td>\n",
              "      <td>0</td>\n",
              "      <td>0</td>\n",
              "      <td>1429</td>\n",
              "      <td>0</td>\n",
              "      <td>1</td>\n",
              "      <td>1</td>\n",
              "      <td>0</td>\n",
              "      <td>1</td>\n",
              "      <td>7</td>\n",
              "      <td>1960.0</td>\n",
              "      <td>572</td>\n",
              "      <td>110</td>\n",
              "      <td>0</td>\n",
              "      <td>0</td>\n",
              "      <td>0</td>\n",
              "      <td>6</td>\n",
              "      <td>2007</td>\n",
              "      <td>581</td>\n",
              "      <td>IR1</td>\n",
              "      <td>Lvl</td>\n",
              "      <td>AllPub</td>\n",
              "      <td>CulDSac</td>\n",
              "      <td>Gtl</td>\n",
              "      <td>NAmes</td>\n",
              "      <td>Norm</td>\n",
              "      <td>1Fam</td>\n",
              "      <td>1Story</td>\n",
              "      <td>Gable</td>\n",
              "      <td>CompShg</td>\n",
              "      <td>Wd Sdng</td>\n",
              "      <td>Wd Sdng</td>\n",
              "      <td>BrkFace</td>\n",
              "      <td>Rec</td>\n",
              "      <td>Ex</td>\n",
              "      <td>SBrkr</td>\n",
              "      <td>Typ</td>\n",
              "      <td>Attchd</td>\n",
              "      <td>Unf</td>\n",
              "      <td>TA</td>\n",
              "      <td>TA</td>\n",
              "      <td>Y</td>\n",
              "      <td>WD</td>\n",
              "      <td>Normal</td>\n",
              "    </tr>\n",
              "    <tr>\n",
              "      <th>961</th>\n",
              "      <td>12227</td>\n",
              "      <td>NaN</td>\n",
              "      <td>1330</td>\n",
              "      <td>4</td>\n",
              "      <td>1</td>\n",
              "      <td>0</td>\n",
              "      <td>2</td>\n",
              "      <td>550</td>\n",
              "      <td>0</td>\n",
              "      <td>RL</td>\n",
              "      <td>PosN</td>\n",
              "      <td>GasA</td>\n",
              "      <td>Pave</td>\n",
              "      <td>Y</td>\n",
              "      <td>CBlock</td>\n",
              "      <td>TA</td>\n",
              "      <td>Gd</td>\n",
              "      <td>Gd</td>\n",
              "      <td>Gd</td>\n",
              "      <td>No</td>\n",
              "      <td>ALQ</td>\n",
              "      <td>TA</td>\n",
              "      <td>60</td>\n",
              "      <td>6</td>\n",
              "      <td>7</td>\n",
              "      <td>1977</td>\n",
              "      <td>1995</td>\n",
              "      <td>424.0</td>\n",
              "      <td>896</td>\n",
              "      <td>0</td>\n",
              "      <td>434</td>\n",
              "      <td>1542</td>\n",
              "      <td>1330</td>\n",
              "      <td>0</td>\n",
              "      <td>2872</td>\n",
              "      <td>1</td>\n",
              "      <td>0</td>\n",
              "      <td>2</td>\n",
              "      <td>1</td>\n",
              "      <td>1</td>\n",
              "      <td>11</td>\n",
              "      <td>1977.0</td>\n",
              "      <td>619</td>\n",
              "      <td>282</td>\n",
              "      <td>0</td>\n",
              "      <td>0</td>\n",
              "      <td>0</td>\n",
              "      <td>7</td>\n",
              "      <td>2008</td>\n",
              "      <td>962</td>\n",
              "      <td>IR1</td>\n",
              "      <td>Lvl</td>\n",
              "      <td>AllPub</td>\n",
              "      <td>Corner</td>\n",
              "      <td>Gtl</td>\n",
              "      <td>NWAmes</td>\n",
              "      <td>Norm</td>\n",
              "      <td>1Fam</td>\n",
              "      <td>2Story</td>\n",
              "      <td>Gable</td>\n",
              "      <td>CompShg</td>\n",
              "      <td>HdBoard</td>\n",
              "      <td>HdBoard</td>\n",
              "      <td>BrkFace</td>\n",
              "      <td>Unf</td>\n",
              "      <td>TA</td>\n",
              "      <td>SBrkr</td>\n",
              "      <td>Typ</td>\n",
              "      <td>Attchd</td>\n",
              "      <td>Fin</td>\n",
              "      <td>TA</td>\n",
              "      <td>TA</td>\n",
              "      <td>Y</td>\n",
              "      <td>WD</td>\n",
              "      <td>Normal</td>\n",
              "    </tr>\n",
              "    <tr>\n",
              "      <th>78</th>\n",
              "      <td>10778</td>\n",
              "      <td>72.0</td>\n",
              "      <td>1768</td>\n",
              "      <td>4</td>\n",
              "      <td>0</td>\n",
              "      <td>0</td>\n",
              "      <td>0</td>\n",
              "      <td>0</td>\n",
              "      <td>0</td>\n",
              "      <td>RL</td>\n",
              "      <td>Norm</td>\n",
              "      <td>GasA</td>\n",
              "      <td>Pave</td>\n",
              "      <td>N</td>\n",
              "      <td>CBlock</td>\n",
              "      <td>TA</td>\n",
              "      <td>TA</td>\n",
              "      <td>TA</td>\n",
              "      <td>TA</td>\n",
              "      <td>No</td>\n",
              "      <td>Unf</td>\n",
              "      <td>TA</td>\n",
              "      <td>90</td>\n",
              "      <td>4</td>\n",
              "      <td>5</td>\n",
              "      <td>1968</td>\n",
              "      <td>1968</td>\n",
              "      <td>0.0</td>\n",
              "      <td>0</td>\n",
              "      <td>0</td>\n",
              "      <td>1768</td>\n",
              "      <td>1768</td>\n",
              "      <td>0</td>\n",
              "      <td>0</td>\n",
              "      <td>1768</td>\n",
              "      <td>0</td>\n",
              "      <td>0</td>\n",
              "      <td>2</td>\n",
              "      <td>0</td>\n",
              "      <td>2</td>\n",
              "      <td>8</td>\n",
              "      <td>NaN</td>\n",
              "      <td>0</td>\n",
              "      <td>0</td>\n",
              "      <td>0</td>\n",
              "      <td>0</td>\n",
              "      <td>0</td>\n",
              "      <td>4</td>\n",
              "      <td>2010</td>\n",
              "      <td>79</td>\n",
              "      <td>Reg</td>\n",
              "      <td>Lvl</td>\n",
              "      <td>AllPub</td>\n",
              "      <td>Inside</td>\n",
              "      <td>Gtl</td>\n",
              "      <td>Sawyer</td>\n",
              "      <td>Norm</td>\n",
              "      <td>Duplex</td>\n",
              "      <td>1Story</td>\n",
              "      <td>Hip</td>\n",
              "      <td>CompShg</td>\n",
              "      <td>HdBoard</td>\n",
              "      <td>HdBoard</td>\n",
              "      <td>None</td>\n",
              "      <td>Unf</td>\n",
              "      <td>TA</td>\n",
              "      <td>SBrkr</td>\n",
              "      <td>Typ</td>\n",
              "      <td>NaN</td>\n",
              "      <td>NaN</td>\n",
              "      <td>NaN</td>\n",
              "      <td>NaN</td>\n",
              "      <td>Y</td>\n",
              "      <td>WD</td>\n",
              "      <td>Normal</td>\n",
              "    </tr>\n",
              "    <tr>\n",
              "      <th>5</th>\n",
              "      <td>14115</td>\n",
              "      <td>85.0</td>\n",
              "      <td>796</td>\n",
              "      <td>1</td>\n",
              "      <td>0</td>\n",
              "      <td>0</td>\n",
              "      <td>2</td>\n",
              "      <td>40</td>\n",
              "      <td>0</td>\n",
              "      <td>RL</td>\n",
              "      <td>Norm</td>\n",
              "      <td>GasA</td>\n",
              "      <td>Pave</td>\n",
              "      <td>Y</td>\n",
              "      <td>Wood</td>\n",
              "      <td>TA</td>\n",
              "      <td>TA</td>\n",
              "      <td>Gd</td>\n",
              "      <td>TA</td>\n",
              "      <td>No</td>\n",
              "      <td>GLQ</td>\n",
              "      <td>TA</td>\n",
              "      <td>50</td>\n",
              "      <td>5</td>\n",
              "      <td>5</td>\n",
              "      <td>1993</td>\n",
              "      <td>1995</td>\n",
              "      <td>0.0</td>\n",
              "      <td>732</td>\n",
              "      <td>0</td>\n",
              "      <td>64</td>\n",
              "      <td>796</td>\n",
              "      <td>566</td>\n",
              "      <td>0</td>\n",
              "      <td>1362</td>\n",
              "      <td>1</td>\n",
              "      <td>0</td>\n",
              "      <td>1</td>\n",
              "      <td>1</td>\n",
              "      <td>1</td>\n",
              "      <td>5</td>\n",
              "      <td>1993.0</td>\n",
              "      <td>480</td>\n",
              "      <td>30</td>\n",
              "      <td>0</td>\n",
              "      <td>320</td>\n",
              "      <td>700</td>\n",
              "      <td>10</td>\n",
              "      <td>2009</td>\n",
              "      <td>6</td>\n",
              "      <td>IR1</td>\n",
              "      <td>Lvl</td>\n",
              "      <td>AllPub</td>\n",
              "      <td>Inside</td>\n",
              "      <td>Gtl</td>\n",
              "      <td>Mitchel</td>\n",
              "      <td>Norm</td>\n",
              "      <td>1Fam</td>\n",
              "      <td>1.5Fin</td>\n",
              "      <td>Gable</td>\n",
              "      <td>CompShg</td>\n",
              "      <td>VinylSd</td>\n",
              "      <td>VinylSd</td>\n",
              "      <td>None</td>\n",
              "      <td>Unf</td>\n",
              "      <td>Ex</td>\n",
              "      <td>SBrkr</td>\n",
              "      <td>Typ</td>\n",
              "      <td>Attchd</td>\n",
              "      <td>Unf</td>\n",
              "      <td>TA</td>\n",
              "      <td>TA</td>\n",
              "      <td>Y</td>\n",
              "      <td>WD</td>\n",
              "      <td>Normal</td>\n",
              "    </tr>\n",
              "  </tbody>\n",
              "</table>\n",
              "</div>\n",
              "      <button class=\"colab-df-convert\" onclick=\"convertToInteractive('df-fe780e94-091d-4eb4-a1a0-af561a0046f3')\"\n",
              "              title=\"Convert this dataframe to an interactive table.\"\n",
              "              style=\"display:none;\">\n",
              "        \n",
              "  <svg xmlns=\"http://www.w3.org/2000/svg\" height=\"24px\"viewBox=\"0 0 24 24\"\n",
              "       width=\"24px\">\n",
              "    <path d=\"M0 0h24v24H0V0z\" fill=\"none\"/>\n",
              "    <path d=\"M18.56 5.44l.94 2.06.94-2.06 2.06-.94-2.06-.94-.94-2.06-.94 2.06-2.06.94zm-11 1L8.5 8.5l.94-2.06 2.06-.94-2.06-.94L8.5 2.5l-.94 2.06-2.06.94zm10 10l.94 2.06.94-2.06 2.06-.94-2.06-.94-.94-2.06-.94 2.06-2.06.94z\"/><path d=\"M17.41 7.96l-1.37-1.37c-.4-.4-.92-.59-1.43-.59-.52 0-1.04.2-1.43.59L10.3 9.45l-7.72 7.72c-.78.78-.78 2.05 0 2.83L4 21.41c.39.39.9.59 1.41.59.51 0 1.02-.2 1.41-.59l7.78-7.78 2.81-2.81c.8-.78.8-2.07 0-2.86zM5.41 20L4 18.59l7.72-7.72 1.47 1.35L5.41 20z\"/>\n",
              "  </svg>\n",
              "      </button>\n",
              "      \n",
              "  <style>\n",
              "    .colab-df-container {\n",
              "      display:flex;\n",
              "      flex-wrap:wrap;\n",
              "      gap: 12px;\n",
              "    }\n",
              "\n",
              "    .colab-df-convert {\n",
              "      background-color: #E8F0FE;\n",
              "      border: none;\n",
              "      border-radius: 50%;\n",
              "      cursor: pointer;\n",
              "      display: none;\n",
              "      fill: #1967D2;\n",
              "      height: 32px;\n",
              "      padding: 0 0 0 0;\n",
              "      width: 32px;\n",
              "    }\n",
              "\n",
              "    .colab-df-convert:hover {\n",
              "      background-color: #E2EBFA;\n",
              "      box-shadow: 0px 1px 2px rgba(60, 64, 67, 0.3), 0px 1px 3px 1px rgba(60, 64, 67, 0.15);\n",
              "      fill: #174EA6;\n",
              "    }\n",
              "\n",
              "    [theme=dark] .colab-df-convert {\n",
              "      background-color: #3B4455;\n",
              "      fill: #D2E3FC;\n",
              "    }\n",
              "\n",
              "    [theme=dark] .colab-df-convert:hover {\n",
              "      background-color: #434B5C;\n",
              "      box-shadow: 0px 1px 3px 1px rgba(0, 0, 0, 0.15);\n",
              "      filter: drop-shadow(0px 1px 2px rgba(0, 0, 0, 0.3));\n",
              "      fill: #FFFFFF;\n",
              "    }\n",
              "  </style>\n",
              "\n",
              "      <script>\n",
              "        const buttonEl =\n",
              "          document.querySelector('#df-fe780e94-091d-4eb4-a1a0-af561a0046f3 button.colab-df-convert');\n",
              "        buttonEl.style.display =\n",
              "          google.colab.kernel.accessAllowed ? 'block' : 'none';\n",
              "\n",
              "        async function convertToInteractive(key) {\n",
              "          const element = document.querySelector('#df-fe780e94-091d-4eb4-a1a0-af561a0046f3');\n",
              "          const dataTable =\n",
              "            await google.colab.kernel.invokeFunction('convertToInteractive',\n",
              "                                                     [key], {});\n",
              "          if (!dataTable) return;\n",
              "\n",
              "          const docLinkHtml = 'Like what you see? Visit the ' +\n",
              "            '<a target=\"_blank\" href=https://colab.research.google.com/notebooks/data_table.ipynb>data table notebook</a>'\n",
              "            + ' to learn more about interactive tables.';\n",
              "          element.innerHTML = '';\n",
              "          dataTable['output_type'] = 'display_data';\n",
              "          await google.colab.output.renderOutput(dataTable, element);\n",
              "          const docLink = document.createElement('div');\n",
              "          docLink.innerHTML = docLinkHtml;\n",
              "          element.appendChild(docLink);\n",
              "        }\n",
              "      </script>\n",
              "    </div>\n",
              "  </div>\n",
              "  "
            ]
          },
          "metadata": {},
          "execution_count": 179
        }
      ]
    },
    {
      "cell_type": "code",
      "source": [
        "y_train.head()"
      ],
      "metadata": {
        "colab": {
          "base_uri": "https://localhost:8080/"
        },
        "id": "dLSuvQIyfwS4",
        "outputId": "3ded3e34-a20d-4a3c-d407-43c701c16ed3"
      },
      "execution_count": null,
      "outputs": [
        {
          "output_type": "execute_result",
          "data": {
            "text/plain": [
              "318    1\n",
              "580    0\n",
              "961    1\n",
              "78     0\n",
              "5      0\n",
              "Name: Expensive, dtype: int64"
            ]
          },
          "metadata": {},
          "execution_count": 180
        }
      ]
    },
    {
      "cell_type": "markdown",
      "source": [
        "# 5. Creating the numeric & categoric pipelines"
      ],
      "metadata": {
        "id": "Eyx0XFq1gAuo"
      }
    },
    {
      "cell_type": "code",
      "source": [
        "X_cat_columns = X.select_dtypes(exclude=\"number\").copy().columns\n",
        "X_num_columns = X.select_dtypes(include=\"number\").copy().columns\n",
        "\n",
        "numeric_pipe = make_pipeline(\n",
        "    SimpleImputer(strategy=\"mean\"))\n",
        "\n",
        "\n",
        "categoric_pipe = make_pipeline(\n",
        "    SimpleImputer(strategy=\"constant\", fill_value=\"N_A\"),\n",
        "    OneHotEncoder(handle_unknown='ignore'))"
      ],
      "metadata": {
        "id": "RFnDOH6Qf0lK"
      },
      "execution_count": null,
      "outputs": []
    },
    {
      "cell_type": "code",
      "source": [
        "preprocessor = ColumnTransformer(\n",
        "    transformers=[\n",
        "        (\"num_pipe\", numeric_pipe, X_num_columns),\n",
        "        (\"cat_pipe\", categoric_pipe, X_cat_columns),\n",
        "    ]\n",
        ")"
      ],
      "metadata": {
        "id": "6NUfIic3hdRT"
      },
      "execution_count": null,
      "outputs": []
    },
    {
      "cell_type": "markdown",
      "source": [
        "# 6. Creating the full_pipeline (preprocessor + Random Forest)\n"
      ],
      "metadata": {
        "id": "ssM7pHzJidqZ"
      }
    },
    {
      "cell_type": "code",
      "source": [
        "# full pipeline: preprocessor + Random Forest Model\n",
        "full_pipeline = make_pipeline(preprocessor, \n",
        "                              RandomForestClassifier())\n",
        "\n",
        "# define parameter grid\n",
        "param_grid = {\n",
        "    \"columntransformer__num_pipe__simpleimputer__strategy\":[\"mean\", \"median\"],\n",
        "    \"randomforestclassifier__n_estimators\": [80, 90, 100, 115, 120, 130],\n",
        "    #\"randomforestclassifier__ max_depth\": range(2,10),\n",
        "    \"randomforestclassifier__min_samples_split\": range(2,10),\n",
        "    \"randomforestclassifier__min_samples_leaf\": range(1,10),\n",
        "    \"randomforestclassifier__max_features\": ['auto', 'log2', 'sqrt'],\n",
        "    \"randomforestclassifier__bootstrap\" : ['True', 'False']\n",
        "\n",
        "}\n",
        "\n",
        "# define GridSearchCV\n",
        "search = GridSearchCV(full_pipeline,\n",
        "                      param_grid,\n",
        "                      cv=3,\n",
        "                      verbose=1,\n",
        "                      n_jobs = -1)"
      ],
      "metadata": {
        "id": "HNxgftClitnz"
      },
      "execution_count": null,
      "outputs": []
    },
    {
      "cell_type": "code",
      "source": [
        "search.fit(X_train, y_train)"
      ],
      "metadata": {
        "colab": {
          "base_uri": "https://localhost:8080/"
        },
        "id": "WOev0Zhpm_0K",
        "outputId": "8b44dc26-081f-40c4-b72d-6ca49d5783f5"
      },
      "execution_count": null,
      "outputs": [
        {
          "output_type": "stream",
          "name": "stdout",
          "text": [
            "Fitting 3 folds for each of 5184 candidates, totalling 15552 fits\n"
          ]
        },
        {
          "output_type": "execute_result",
          "data": {
            "text/plain": [
              "GridSearchCV(cv=3,\n",
              "             estimator=Pipeline(steps=[('columntransformer',\n",
              "                                        ColumnTransformer(transformers=[('num_pipe',\n",
              "                                                                         Pipeline(steps=[('simpleimputer',\n",
              "                                                                                          SimpleImputer())]),\n",
              "                                                                         Index(['LotArea', 'LotFrontage', 'TotalBsmtSF', 'BedroomAbvGr', 'Fireplaces',\n",
              "       'PoolArea', 'GarageCars', 'WoodDeckSF', 'ScreenPorch', 'MSSubClass',\n",
              "       'OverallQual', 'OverallCond', 'YearBuilt', 'YearRemodAd...\n",
              "             param_grid={'columntransformer__num_pipe__simpleimputer__strategy': ['mean',\n",
              "                                                                                  'median'],\n",
              "                         'randomforestclassifier__bootstrap': ['True', 'False'],\n",
              "                         'randomforestclassifier__max_features': ['auto',\n",
              "                                                                  'log2',\n",
              "                                                                  'sqrt'],\n",
              "                         'randomforestclassifier__min_samples_leaf': range(1, 10),\n",
              "                         'randomforestclassifier__min_samples_split': range(2, 10),\n",
              "                         'randomforestclassifier__n_estimators': [80, 90, 100,\n",
              "                                                                  115, 120,\n",
              "                                                                  130]},\n",
              "             verbose=1)"
            ]
          },
          "metadata": {},
          "execution_count": 184
        }
      ]
    },
    {
      "cell_type": "code",
      "source": [
        "#the best hyperparameters\n",
        "search.best_params_"
      ],
      "metadata": {
        "colab": {
          "base_uri": "https://localhost:8080/"
        },
        "id": "lTPW-pJknEAy",
        "outputId": "95242d0d-ae13-4406-d749-46304109c7c4"
      },
      "execution_count": null,
      "outputs": [
        {
          "output_type": "execute_result",
          "data": {
            "text/plain": [
              "{'columntransformer__num_pipe__simpleimputer__strategy': 'median',\n",
              " 'randomforestclassifier__bootstrap': 'False',\n",
              " 'randomforestclassifier__max_features': 'sqrt',\n",
              " 'randomforestclassifier__min_samples_leaf': 4,\n",
              " 'randomforestclassifier__min_samples_split': 7,\n",
              " 'randomforestclassifier__n_estimators': 90}"
            ]
          },
          "metadata": {},
          "execution_count": 185
        }
      ]
    },
    {
      "cell_type": "code",
      "source": [
        "# the best accuracy\n",
        "search.best_score_"
      ],
      "metadata": {
        "colab": {
          "base_uri": "https://localhost:8080/"
        },
        "id": "DJRMUNasvIEM",
        "outputId": "99c6391b-f64b-45b5-c75a-2470b0033e1f"
      },
      "execution_count": null,
      "outputs": [
        {
          "output_type": "execute_result",
          "data": {
            "text/plain": [
              "0.9520664425548744"
            ]
          },
          "metadata": {},
          "execution_count": 186
        }
      ]
    },
    {
      "cell_type": "code",
      "source": [
        "accuracy_score(search.predict(X_test), y_test)"
      ],
      "metadata": {
        "colab": {
          "base_uri": "https://localhost:8080/"
        },
        "id": "h5mhZQ5WpBi2",
        "outputId": "c66c532f-9ffa-4d7f-ccd3-0183a183d223"
      },
      "execution_count": null,
      "outputs": [
        {
          "output_type": "execute_result",
          "data": {
            "text/plain": [
              "0.9554794520547946"
            ]
          },
          "metadata": {},
          "execution_count": 187
        }
      ]
    },
    {
      "cell_type": "markdown",
      "source": [
        "# 7. Checking the accuracy of the test"
      ],
      "metadata": {
        "id": "nl-5MHMe7lv3"
      }
    },
    {
      "cell_type": "code",
      "source": [
        "# make predictions\n",
        "y_predict_test = search.predict(X_test)"
      ],
      "metadata": {
        "id": "jD0rF-5V7pdl"
      },
      "execution_count": null,
      "outputs": []
    },
    {
      "cell_type": "code",
      "source": [
        "# Check accuracy on the test set\n",
        "accuracy_score(y_true = y_test,\n",
        "               y_pred = y_predict_test\n",
        "              )"
      ],
      "metadata": {
        "colab": {
          "base_uri": "https://localhost:8080/"
        },
        "id": "L-d5nNyo7u2-",
        "outputId": "18256562-5b46-4784-8236-1d1515d7a104"
      },
      "execution_count": null,
      "outputs": [
        {
          "output_type": "execute_result",
          "data": {
            "text/plain": [
              "0.9554794520547946"
            ]
          },
          "metadata": {},
          "execution_count": 189
        }
      ]
    },
    {
      "cell_type": "code",
      "source": [
        "accuracy_score(search.predict(X_test), y_test)"
      ],
      "metadata": {
        "colab": {
          "base_uri": "https://localhost:8080/"
        },
        "id": "r_rkzv9r7zbd",
        "outputId": "041e5cbc-c3dd-4761-b4cf-aecf21e62524"
      },
      "execution_count": null,
      "outputs": [
        {
          "output_type": "execute_result",
          "data": {
            "text/plain": [
              "0.9554794520547946"
            ]
          },
          "metadata": {},
          "execution_count": 190
        }
      ]
    },
    {
      "cell_type": "markdown",
      "source": [
        "# 8. Using the 'test.csv' file to make the prediction"
      ],
      "metadata": {
        "id": "r9Pjrcez6Z4b"
      }
    },
    {
      "cell_type": "code",
      "source": [
        "df_test = pd.read_csv('/content/gdrive/MyDrive/test.csv')"
      ],
      "metadata": {
        "id": "7jpeeBfP6U7Z"
      },
      "execution_count": null,
      "outputs": []
    },
    {
      "cell_type": "code",
      "source": [
        "df_test.info()"
      ],
      "metadata": {
        "colab": {
          "base_uri": "https://localhost:8080/"
        },
        "id": "xFMweBlt7IQ4",
        "outputId": "d69255e2-b7fb-4326-eb69-9607421332be"
      },
      "execution_count": null,
      "outputs": [
        {
          "output_type": "stream",
          "name": "stdout",
          "text": [
            "<class 'pandas.core.frame.DataFrame'>\n",
            "RangeIndex: 1459 entries, 0 to 1458\n",
            "Data columns (total 81 columns):\n",
            " #   Column         Non-Null Count  Dtype  \n",
            "---  ------         --------------  -----  \n",
            " 0   Unnamed: 0     1459 non-null   int64  \n",
            " 1   LotArea        1459 non-null   int64  \n",
            " 2   LotFrontage    1232 non-null   float64\n",
            " 3   TotalBsmtSF    1458 non-null   float64\n",
            " 4   BedroomAbvGr   1459 non-null   int64  \n",
            " 5   Fireplaces     1459 non-null   int64  \n",
            " 6   PoolArea       1459 non-null   int64  \n",
            " 7   GarageCars     1458 non-null   float64\n",
            " 8   WoodDeckSF     1459 non-null   int64  \n",
            " 9   ScreenPorch    1459 non-null   int64  \n",
            " 10  MSZoning       1455 non-null   object \n",
            " 11  Condition1     1459 non-null   object \n",
            " 12  Heating        1459 non-null   object \n",
            " 13  Street         1459 non-null   object \n",
            " 14  CentralAir     1459 non-null   object \n",
            " 15  Foundation     1459 non-null   object \n",
            " 16  ExterQual      1459 non-null   object \n",
            " 17  ExterCond      1459 non-null   object \n",
            " 18  BsmtQual       1415 non-null   object \n",
            " 19  BsmtCond       1414 non-null   object \n",
            " 20  BsmtExposure   1415 non-null   object \n",
            " 21  BsmtFinType1   1417 non-null   object \n",
            " 22  KitchenQual    1458 non-null   object \n",
            " 23  FireplaceQu    729 non-null    object \n",
            " 24  MSSubClass     1459 non-null   int64  \n",
            " 25  OverallQual    1459 non-null   int64  \n",
            " 26  OverallCond    1459 non-null   int64  \n",
            " 27  YearBuilt      1459 non-null   int64  \n",
            " 28  YearRemodAdd   1459 non-null   int64  \n",
            " 29  MasVnrArea     1444 non-null   float64\n",
            " 30  BsmtFinSF1     1458 non-null   float64\n",
            " 31  BsmtFinSF2     1458 non-null   float64\n",
            " 32  BsmtUnfSF      1458 non-null   float64\n",
            " 33  1stFlrSF       1459 non-null   int64  \n",
            " 34  2ndFlrSF       1459 non-null   int64  \n",
            " 35  LowQualFinSF   1459 non-null   int64  \n",
            " 36  GrLivArea      1459 non-null   int64  \n",
            " 37  BsmtFullBath   1457 non-null   float64\n",
            " 38  BsmtHalfBath   1457 non-null   float64\n",
            " 39  FullBath       1459 non-null   int64  \n",
            " 40  HalfBath       1459 non-null   int64  \n",
            " 41  KitchenAbvGr   1459 non-null   int64  \n",
            " 42  TotRmsAbvGrd   1459 non-null   int64  \n",
            " 43  GarageYrBlt    1381 non-null   float64\n",
            " 44  GarageArea     1458 non-null   float64\n",
            " 45  OpenPorchSF    1459 non-null   int64  \n",
            " 46  EnclosedPorch  1459 non-null   int64  \n",
            " 47  3SsnPorch      1459 non-null   int64  \n",
            " 48  MiscVal        1459 non-null   int64  \n",
            " 49  MoSold         1459 non-null   int64  \n",
            " 50  YrSold         1459 non-null   int64  \n",
            " 51  Id             1459 non-null   int64  \n",
            " 52  Alley          107 non-null    object \n",
            " 53  LotShape       1459 non-null   object \n",
            " 54  LandContour    1459 non-null   object \n",
            " 55  Utilities      1457 non-null   object \n",
            " 56  LotConfig      1459 non-null   object \n",
            " 57  LandSlope      1459 non-null   object \n",
            " 58  Neighborhood   1459 non-null   object \n",
            " 59  Condition2     1459 non-null   object \n",
            " 60  BldgType       1459 non-null   object \n",
            " 61  HouseStyle     1459 non-null   object \n",
            " 62  RoofStyle      1459 non-null   object \n",
            " 63  RoofMatl       1459 non-null   object \n",
            " 64  Exterior1st    1458 non-null   object \n",
            " 65  Exterior2nd    1458 non-null   object \n",
            " 66  MasVnrType     1443 non-null   object \n",
            " 67  BsmtFinType2   1417 non-null   object \n",
            " 68  HeatingQC      1459 non-null   object \n",
            " 69  Electrical     1459 non-null   object \n",
            " 70  Functional     1457 non-null   object \n",
            " 71  GarageType     1383 non-null   object \n",
            " 72  GarageFinish   1381 non-null   object \n",
            " 73  GarageQual     1381 non-null   object \n",
            " 74  GarageCond     1381 non-null   object \n",
            " 75  PavedDrive     1459 non-null   object \n",
            " 76  PoolQC         3 non-null      object \n",
            " 77  Fence          290 non-null    object \n",
            " 78  MiscFeature    51 non-null     object \n",
            " 79  SaleType       1458 non-null   object \n",
            " 80  SaleCondition  1459 non-null   object \n",
            "dtypes: float64(11), int64(27), object(43)\n",
            "memory usage: 923.4+ KB\n"
          ]
        }
      ]
    },
    {
      "cell_type": "code",
      "source": [
        "df_predict_copy = df_houses.copy()"
      ],
      "metadata": {
        "id": "PNx6HUeA7NGh"
      },
      "execution_count": null,
      "outputs": []
    },
    {
      "cell_type": "code",
      "source": [
        "df_predict_copy.info()"
      ],
      "metadata": {
        "colab": {
          "base_uri": "https://localhost:8080/"
        },
        "id": "H6OS-n_S-MoM",
        "outputId": "ee9ecdb2-55f1-4cf8-8b25-6e532f785e90"
      },
      "execution_count": null,
      "outputs": [
        {
          "output_type": "stream",
          "name": "stdout",
          "text": [
            "<class 'pandas.core.frame.DataFrame'>\n",
            "RangeIndex: 1460 entries, 0 to 1459\n",
            "Data columns (total 75 columns):\n",
            " #   Column         Non-Null Count  Dtype  \n",
            "---  ------         --------------  -----  \n",
            " 0   LotArea        1460 non-null   int64  \n",
            " 1   LotFrontage    1201 non-null   float64\n",
            " 2   TotalBsmtSF    1460 non-null   int64  \n",
            " 3   BedroomAbvGr   1460 non-null   int64  \n",
            " 4   Fireplaces     1460 non-null   int64  \n",
            " 5   PoolArea       1460 non-null   int64  \n",
            " 6   GarageCars     1460 non-null   int64  \n",
            " 7   WoodDeckSF     1460 non-null   int64  \n",
            " 8   ScreenPorch    1460 non-null   int64  \n",
            " 9   MSZoning       1460 non-null   object \n",
            " 10  Condition1     1460 non-null   object \n",
            " 11  Heating        1460 non-null   object \n",
            " 12  Street         1460 non-null   object \n",
            " 13  CentralAir     1460 non-null   object \n",
            " 14  Foundation     1460 non-null   object \n",
            " 15  ExterQual      1460 non-null   object \n",
            " 16  ExterCond      1460 non-null   object \n",
            " 17  BsmtQual       1423 non-null   object \n",
            " 18  BsmtCond       1423 non-null   object \n",
            " 19  BsmtExposure   1422 non-null   object \n",
            " 20  BsmtFinType1   1423 non-null   object \n",
            " 21  KitchenQual    1460 non-null   object \n",
            " 22  MSSubClass     1460 non-null   int64  \n",
            " 23  OverallQual    1460 non-null   int64  \n",
            " 24  OverallCond    1460 non-null   int64  \n",
            " 25  YearBuilt      1460 non-null   int64  \n",
            " 26  YearRemodAdd   1460 non-null   int64  \n",
            " 27  MasVnrArea     1452 non-null   float64\n",
            " 28  BsmtFinSF1     1460 non-null   int64  \n",
            " 29  BsmtFinSF2     1460 non-null   int64  \n",
            " 30  BsmtUnfSF      1460 non-null   int64  \n",
            " 31  1stFlrSF       1460 non-null   int64  \n",
            " 32  2ndFlrSF       1460 non-null   int64  \n",
            " 33  LowQualFinSF   1460 non-null   int64  \n",
            " 34  GrLivArea      1460 non-null   int64  \n",
            " 35  BsmtFullBath   1460 non-null   int64  \n",
            " 36  BsmtHalfBath   1460 non-null   int64  \n",
            " 37  FullBath       1460 non-null   int64  \n",
            " 38  HalfBath       1460 non-null   int64  \n",
            " 39  KitchenAbvGr   1460 non-null   int64  \n",
            " 40  TotRmsAbvGrd   1460 non-null   int64  \n",
            " 41  GarageYrBlt    1379 non-null   float64\n",
            " 42  GarageArea     1460 non-null   int64  \n",
            " 43  OpenPorchSF    1460 non-null   int64  \n",
            " 44  EnclosedPorch  1460 non-null   int64  \n",
            " 45  3SsnPorch      1460 non-null   int64  \n",
            " 46  MiscVal        1460 non-null   int64  \n",
            " 47  MoSold         1460 non-null   int64  \n",
            " 48  YrSold         1460 non-null   int64  \n",
            " 49  Id             1460 non-null   int64  \n",
            " 50  LotShape       1460 non-null   object \n",
            " 51  LandContour    1460 non-null   object \n",
            " 52  Utilities      1460 non-null   object \n",
            " 53  LotConfig      1460 non-null   object \n",
            " 54  LandSlope      1460 non-null   object \n",
            " 55  Neighborhood   1460 non-null   object \n",
            " 56  Condition2     1460 non-null   object \n",
            " 57  BldgType       1460 non-null   object \n",
            " 58  HouseStyle     1460 non-null   object \n",
            " 59  RoofStyle      1460 non-null   object \n",
            " 60  RoofMatl       1460 non-null   object \n",
            " 61  Exterior1st    1460 non-null   object \n",
            " 62  Exterior2nd    1460 non-null   object \n",
            " 63  MasVnrType     1452 non-null   object \n",
            " 64  BsmtFinType2   1422 non-null   object \n",
            " 65  HeatingQC      1460 non-null   object \n",
            " 66  Electrical     1459 non-null   object \n",
            " 67  Functional     1460 non-null   object \n",
            " 68  GarageType     1379 non-null   object \n",
            " 69  GarageFinish   1379 non-null   object \n",
            " 70  GarageQual     1379 non-null   object \n",
            " 71  GarageCond     1379 non-null   object \n",
            " 72  PavedDrive     1460 non-null   object \n",
            " 73  SaleType       1460 non-null   object \n",
            " 74  SaleCondition  1460 non-null   object \n",
            "dtypes: float64(3), int64(34), object(38)\n",
            "memory usage: 855.6+ KB\n"
          ]
        }
      ]
    },
    {
      "cell_type": "code",
      "source": [
        "df_test = df_test.drop(columns=[\"MiscFeature\",'PoolQC','Fence','Alley','FireplaceQu'])"
      ],
      "metadata": {
        "id": "TgcspgNs-TfZ"
      },
      "execution_count": null,
      "outputs": []
    },
    {
      "cell_type": "code",
      "source": [
        "df_test = df_test.drop(columns=['Unnamed: 0'])"
      ],
      "metadata": {
        "id": "0qwIF2ek-ndN"
      },
      "execution_count": null,
      "outputs": []
    },
    {
      "cell_type": "code",
      "source": [
        "df_test.info()"
      ],
      "metadata": {
        "colab": {
          "base_uri": "https://localhost:8080/"
        },
        "id": "5JH2GeNi-pvP",
        "outputId": "d0ae5579-9b5e-4650-826f-da2cb4344ea1"
      },
      "execution_count": null,
      "outputs": [
        {
          "output_type": "stream",
          "name": "stdout",
          "text": [
            "<class 'pandas.core.frame.DataFrame'>\n",
            "RangeIndex: 1459 entries, 0 to 1458\n",
            "Data columns (total 75 columns):\n",
            " #   Column         Non-Null Count  Dtype  \n",
            "---  ------         --------------  -----  \n",
            " 0   LotArea        1459 non-null   int64  \n",
            " 1   LotFrontage    1232 non-null   float64\n",
            " 2   TotalBsmtSF    1458 non-null   float64\n",
            " 3   BedroomAbvGr   1459 non-null   int64  \n",
            " 4   Fireplaces     1459 non-null   int64  \n",
            " 5   PoolArea       1459 non-null   int64  \n",
            " 6   GarageCars     1458 non-null   float64\n",
            " 7   WoodDeckSF     1459 non-null   int64  \n",
            " 8   ScreenPorch    1459 non-null   int64  \n",
            " 9   MSZoning       1455 non-null   object \n",
            " 10  Condition1     1459 non-null   object \n",
            " 11  Heating        1459 non-null   object \n",
            " 12  Street         1459 non-null   object \n",
            " 13  CentralAir     1459 non-null   object \n",
            " 14  Foundation     1459 non-null   object \n",
            " 15  ExterQual      1459 non-null   object \n",
            " 16  ExterCond      1459 non-null   object \n",
            " 17  BsmtQual       1415 non-null   object \n",
            " 18  BsmtCond       1414 non-null   object \n",
            " 19  BsmtExposure   1415 non-null   object \n",
            " 20  BsmtFinType1   1417 non-null   object \n",
            " 21  KitchenQual    1458 non-null   object \n",
            " 22  MSSubClass     1459 non-null   int64  \n",
            " 23  OverallQual    1459 non-null   int64  \n",
            " 24  OverallCond    1459 non-null   int64  \n",
            " 25  YearBuilt      1459 non-null   int64  \n",
            " 26  YearRemodAdd   1459 non-null   int64  \n",
            " 27  MasVnrArea     1444 non-null   float64\n",
            " 28  BsmtFinSF1     1458 non-null   float64\n",
            " 29  BsmtFinSF2     1458 non-null   float64\n",
            " 30  BsmtUnfSF      1458 non-null   float64\n",
            " 31  1stFlrSF       1459 non-null   int64  \n",
            " 32  2ndFlrSF       1459 non-null   int64  \n",
            " 33  LowQualFinSF   1459 non-null   int64  \n",
            " 34  GrLivArea      1459 non-null   int64  \n",
            " 35  BsmtFullBath   1457 non-null   float64\n",
            " 36  BsmtHalfBath   1457 non-null   float64\n",
            " 37  FullBath       1459 non-null   int64  \n",
            " 38  HalfBath       1459 non-null   int64  \n",
            " 39  KitchenAbvGr   1459 non-null   int64  \n",
            " 40  TotRmsAbvGrd   1459 non-null   int64  \n",
            " 41  GarageYrBlt    1381 non-null   float64\n",
            " 42  GarageArea     1458 non-null   float64\n",
            " 43  OpenPorchSF    1459 non-null   int64  \n",
            " 44  EnclosedPorch  1459 non-null   int64  \n",
            " 45  3SsnPorch      1459 non-null   int64  \n",
            " 46  MiscVal        1459 non-null   int64  \n",
            " 47  MoSold         1459 non-null   int64  \n",
            " 48  YrSold         1459 non-null   int64  \n",
            " 49  Id             1459 non-null   int64  \n",
            " 50  LotShape       1459 non-null   object \n",
            " 51  LandContour    1459 non-null   object \n",
            " 52  Utilities      1457 non-null   object \n",
            " 53  LotConfig      1459 non-null   object \n",
            " 54  LandSlope      1459 non-null   object \n",
            " 55  Neighborhood   1459 non-null   object \n",
            " 56  Condition2     1459 non-null   object \n",
            " 57  BldgType       1459 non-null   object \n",
            " 58  HouseStyle     1459 non-null   object \n",
            " 59  RoofStyle      1459 non-null   object \n",
            " 60  RoofMatl       1459 non-null   object \n",
            " 61  Exterior1st    1458 non-null   object \n",
            " 62  Exterior2nd    1458 non-null   object \n",
            " 63  MasVnrType     1443 non-null   object \n",
            " 64  BsmtFinType2   1417 non-null   object \n",
            " 65  HeatingQC      1459 non-null   object \n",
            " 66  Electrical     1459 non-null   object \n",
            " 67  Functional     1457 non-null   object \n",
            " 68  GarageType     1383 non-null   object \n",
            " 69  GarageFinish   1381 non-null   object \n",
            " 70  GarageQual     1381 non-null   object \n",
            " 71  GarageCond     1381 non-null   object \n",
            " 72  PavedDrive     1459 non-null   object \n",
            " 73  SaleType       1458 non-null   object \n",
            " 74  SaleCondition  1459 non-null   object \n",
            "dtypes: float64(11), int64(26), object(38)\n",
            "memory usage: 855.0+ KB\n"
          ]
        }
      ]
    },
    {
      "cell_type": "code",
      "source": [
        "y_prediction = search.predict(df_test)"
      ],
      "metadata": {
        "id": "CMax5qRi_qAi"
      },
      "execution_count": null,
      "outputs": []
    },
    {
      "cell_type": "code",
      "source": [
        "y_prediction"
      ],
      "metadata": {
        "colab": {
          "base_uri": "https://localhost:8080/"
        },
        "id": "p_f4HS6n_yoH",
        "outputId": "7ccae384-107f-4919-ad8c-0c4eba9e5c89"
      },
      "execution_count": null,
      "outputs": [
        {
          "output_type": "execute_result",
          "data": {
            "text/plain": [
              "array([0, 0, 0, ..., 0, 0, 0])"
            ]
          },
          "metadata": {},
          "execution_count": 199
        }
      ]
    },
    {
      "cell_type": "code",
      "source": [
        "prediction_df = pd.DataFrame(y_prediction,columns=['Expensive'])"
      ],
      "metadata": {
        "id": "2ygFpk_g_1EZ"
      },
      "execution_count": null,
      "outputs": []
    },
    {
      "cell_type": "code",
      "source": [
        "prediction_df"
      ],
      "metadata": {
        "colab": {
          "base_uri": "https://localhost:8080/",
          "height": 424
        },
        "id": "yUwILv9B_-Pn",
        "outputId": "31710db8-3e16-4629-caf3-cd2a2c140cb5"
      },
      "execution_count": null,
      "outputs": [
        {
          "output_type": "execute_result",
          "data": {
            "text/plain": [
              "      Expensive\n",
              "0             0\n",
              "1             0\n",
              "2             0\n",
              "3             0\n",
              "4             0\n",
              "...         ...\n",
              "1454          0\n",
              "1455          0\n",
              "1456          0\n",
              "1457          0\n",
              "1458          0\n",
              "\n",
              "[1459 rows x 1 columns]"
            ],
            "text/html": [
              "\n",
              "  <div id=\"df-d62db875-d080-4f5f-bb6b-6b201866fa8e\">\n",
              "    <div class=\"colab-df-container\">\n",
              "      <div>\n",
              "<style scoped>\n",
              "    .dataframe tbody tr th:only-of-type {\n",
              "        vertical-align: middle;\n",
              "    }\n",
              "\n",
              "    .dataframe tbody tr th {\n",
              "        vertical-align: top;\n",
              "    }\n",
              "\n",
              "    .dataframe thead th {\n",
              "        text-align: right;\n",
              "    }\n",
              "</style>\n",
              "<table border=\"1\" class=\"dataframe\">\n",
              "  <thead>\n",
              "    <tr style=\"text-align: right;\">\n",
              "      <th></th>\n",
              "      <th>Expensive</th>\n",
              "    </tr>\n",
              "  </thead>\n",
              "  <tbody>\n",
              "    <tr>\n",
              "      <th>0</th>\n",
              "      <td>0</td>\n",
              "    </tr>\n",
              "    <tr>\n",
              "      <th>1</th>\n",
              "      <td>0</td>\n",
              "    </tr>\n",
              "    <tr>\n",
              "      <th>2</th>\n",
              "      <td>0</td>\n",
              "    </tr>\n",
              "    <tr>\n",
              "      <th>3</th>\n",
              "      <td>0</td>\n",
              "    </tr>\n",
              "    <tr>\n",
              "      <th>4</th>\n",
              "      <td>0</td>\n",
              "    </tr>\n",
              "    <tr>\n",
              "      <th>...</th>\n",
              "      <td>...</td>\n",
              "    </tr>\n",
              "    <tr>\n",
              "      <th>1454</th>\n",
              "      <td>0</td>\n",
              "    </tr>\n",
              "    <tr>\n",
              "      <th>1455</th>\n",
              "      <td>0</td>\n",
              "    </tr>\n",
              "    <tr>\n",
              "      <th>1456</th>\n",
              "      <td>0</td>\n",
              "    </tr>\n",
              "    <tr>\n",
              "      <th>1457</th>\n",
              "      <td>0</td>\n",
              "    </tr>\n",
              "    <tr>\n",
              "      <th>1458</th>\n",
              "      <td>0</td>\n",
              "    </tr>\n",
              "  </tbody>\n",
              "</table>\n",
              "<p>1459 rows × 1 columns</p>\n",
              "</div>\n",
              "      <button class=\"colab-df-convert\" onclick=\"convertToInteractive('df-d62db875-d080-4f5f-bb6b-6b201866fa8e')\"\n",
              "              title=\"Convert this dataframe to an interactive table.\"\n",
              "              style=\"display:none;\">\n",
              "        \n",
              "  <svg xmlns=\"http://www.w3.org/2000/svg\" height=\"24px\"viewBox=\"0 0 24 24\"\n",
              "       width=\"24px\">\n",
              "    <path d=\"M0 0h24v24H0V0z\" fill=\"none\"/>\n",
              "    <path d=\"M18.56 5.44l.94 2.06.94-2.06 2.06-.94-2.06-.94-.94-2.06-.94 2.06-2.06.94zm-11 1L8.5 8.5l.94-2.06 2.06-.94-2.06-.94L8.5 2.5l-.94 2.06-2.06.94zm10 10l.94 2.06.94-2.06 2.06-.94-2.06-.94-.94-2.06-.94 2.06-2.06.94z\"/><path d=\"M17.41 7.96l-1.37-1.37c-.4-.4-.92-.59-1.43-.59-.52 0-1.04.2-1.43.59L10.3 9.45l-7.72 7.72c-.78.78-.78 2.05 0 2.83L4 21.41c.39.39.9.59 1.41.59.51 0 1.02-.2 1.41-.59l7.78-7.78 2.81-2.81c.8-.78.8-2.07 0-2.86zM5.41 20L4 18.59l7.72-7.72 1.47 1.35L5.41 20z\"/>\n",
              "  </svg>\n",
              "      </button>\n",
              "      \n",
              "  <style>\n",
              "    .colab-df-container {\n",
              "      display:flex;\n",
              "      flex-wrap:wrap;\n",
              "      gap: 12px;\n",
              "    }\n",
              "\n",
              "    .colab-df-convert {\n",
              "      background-color: #E8F0FE;\n",
              "      border: none;\n",
              "      border-radius: 50%;\n",
              "      cursor: pointer;\n",
              "      display: none;\n",
              "      fill: #1967D2;\n",
              "      height: 32px;\n",
              "      padding: 0 0 0 0;\n",
              "      width: 32px;\n",
              "    }\n",
              "\n",
              "    .colab-df-convert:hover {\n",
              "      background-color: #E2EBFA;\n",
              "      box-shadow: 0px 1px 2px rgba(60, 64, 67, 0.3), 0px 1px 3px 1px rgba(60, 64, 67, 0.15);\n",
              "      fill: #174EA6;\n",
              "    }\n",
              "\n",
              "    [theme=dark] .colab-df-convert {\n",
              "      background-color: #3B4455;\n",
              "      fill: #D2E3FC;\n",
              "    }\n",
              "\n",
              "    [theme=dark] .colab-df-convert:hover {\n",
              "      background-color: #434B5C;\n",
              "      box-shadow: 0px 1px 3px 1px rgba(0, 0, 0, 0.15);\n",
              "      filter: drop-shadow(0px 1px 2px rgba(0, 0, 0, 0.3));\n",
              "      fill: #FFFFFF;\n",
              "    }\n",
              "  </style>\n",
              "\n",
              "      <script>\n",
              "        const buttonEl =\n",
              "          document.querySelector('#df-d62db875-d080-4f5f-bb6b-6b201866fa8e button.colab-df-convert');\n",
              "        buttonEl.style.display =\n",
              "          google.colab.kernel.accessAllowed ? 'block' : 'none';\n",
              "\n",
              "        async function convertToInteractive(key) {\n",
              "          const element = document.querySelector('#df-d62db875-d080-4f5f-bb6b-6b201866fa8e');\n",
              "          const dataTable =\n",
              "            await google.colab.kernel.invokeFunction('convertToInteractive',\n",
              "                                                     [key], {});\n",
              "          if (!dataTable) return;\n",
              "\n",
              "          const docLinkHtml = 'Like what you see? Visit the ' +\n",
              "            '<a target=\"_blank\" href=https://colab.research.google.com/notebooks/data_table.ipynb>data table notebook</a>'\n",
              "            + ' to learn more about interactive tables.';\n",
              "          element.innerHTML = '';\n",
              "          dataTable['output_type'] = 'display_data';\n",
              "          await google.colab.output.renderOutput(dataTable, element);\n",
              "          const docLink = document.createElement('div');\n",
              "          docLink.innerHTML = docLinkHtml;\n",
              "          element.appendChild(docLink);\n",
              "        }\n",
              "      </script>\n",
              "    </div>\n",
              "  </div>\n",
              "  "
            ]
          },
          "metadata": {},
          "execution_count": 201
        }
      ]
    },
    {
      "cell_type": "code",
      "source": [
        "prediction_df.to_csv('RandomForest.csv')"
      ],
      "metadata": {
        "id": "M8oMX2z9AAhu"
      },
      "execution_count": null,
      "outputs": []
    },
    {
      "cell_type": "code",
      "source": [],
      "metadata": {
        "id": "yiOHcoN_Aeqc"
      },
      "execution_count": null,
      "outputs": []
    }
  ]
}